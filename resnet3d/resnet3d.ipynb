{
 "cells": [
  {
   "cell_type": "code",
   "execution_count": 2,
   "metadata": {
    "collapsed": false,
    "ExecuteTime": {
     "start_time": "2023-05-05T14:45:12.859699Z",
     "end_time": "2023-05-05T14:45:15.259826Z"
    }
   },
   "outputs": [
    {
     "name": "stderr",
     "output_type": "stream",
     "text": [
      "C:\\Users\\36394\\anaconda3\\envs\\art_med\\lib\\site-packages\\torchvision\\transforms\\_functional_video.py:6: UserWarning: The 'torchvision.transforms._functional_video' module is deprecated since 0.12 and will be removed in the future. Please use the 'torchvision.transforms.functional' module instead.\n",
      "  warnings.warn(\n",
      "C:\\Users\\36394\\anaconda3\\envs\\art_med\\lib\\site-packages\\torchvision\\transforms\\_transforms_video.py:22: UserWarning: The 'torchvision.transforms._transforms_video' module is deprecated since 0.12 and will be removed in the future. Please use the 'torchvision.transforms' module instead.\n",
      "  warnings.warn(\n",
      "C:\\Users\\36394\\anaconda3\\envs\\art_med\\lib\\site-packages\\torchvision\\transforms\\functional_tensor.py:5: UserWarning: The torchvision.transforms.functional_tensor module is deprecated in 0.15 and will be **removed in 0.17**. Please don't rely on it. You probably just need to use APIs in torchvision.transforms.functional or in torchvision.transforms.v2.functional.\n",
      "  warnings.warn(\n"
     ]
    }
   ],
   "source": [
    "import os, time\n",
    "import numpy as np\n",
    "import torch.utils.data\n",
    "import torch\n",
    "import torch.nn as nn\n",
    "import pandas as pd\n",
    "\n",
    "from FOS_dataset import FOS_set, transform\n",
    "\n",
    "from sklearn.metrics import confusion_matrix\n",
    "import matplotlib.pyplot as plt\n",
    "import seaborn as sns"
   ]
  },
  {
   "cell_type": "markdown",
   "metadata": {
    "collapsed": false
   },
   "source": [
    "## Test the model"
   ]
  },
  {
   "cell_type": "code",
   "execution_count": 3,
   "outputs": [
    {
     "name": "stderr",
     "output_type": "stream",
     "text": [
      "Using cache found in C:\\Users\\36394/.cache\\torch\\hub\\facebookresearch_pytorchvideo_main\n"
     ]
    },
    {
     "data": {
      "text/plain": "<All keys matched successfully>"
     },
     "execution_count": 3,
     "metadata": {},
     "output_type": "execute_result"
    }
   ],
   "source": [
    "device = torch.device('cuda')\n",
    "\n",
    "# Load the model\n",
    "model = torch.hub.load(\"facebookresearch/pytorchvideo\", model=\"slowfast_r50\", pretrained=True)\n",
    "model.blocks[6].proj = nn.Sequential(\n",
    "        nn.Linear(in_features=2304, out_features=400),\n",
    "        nn.ReLU(),\n",
    "        nn.Linear(in_features=400, out_features=3)\n",
    "    )\n",
    "# model = nn.DataParallel(model).to(device)\n",
    "model = model.to(device)\n",
    "model.load_state_dict(torch.load(r'best_cv_model_balanced.pt'))"
   ],
   "metadata": {
    "collapsed": false,
    "ExecuteTime": {
     "start_time": "2023-05-05T14:45:15.261823Z",
     "end_time": "2023-05-05T14:45:16.431718Z"
    }
   }
  },
  {
   "cell_type": "code",
   "execution_count": 10,
   "metadata": {
    "collapsed": false,
    "ExecuteTime": {
     "start_time": "2023-05-02T12:00:13.201809Z",
     "end_time": "2023-05-02T12:10:16.938648Z"
    }
   },
   "outputs": [
    {
     "name": "stdout",
     "output_type": "stream",
     "text": [
      "Batch 1/200\n",
      "Batch 101/200\n"
     ]
    }
   ],
   "source": [
    "# Define batch size\n",
    "batch_size = 8\n",
    "\n",
    "# Define dataset\n",
    "vision_classes = ['C+', 'PN', 'EA']\n",
    "df_val_set = pd.read_csv(r\"C:\\Users\\36394\\PycharmProjects\\care_autism_children\\resnet3d\\val.csv\")\n",
    "val_set = FOS_set(df_val_set, list_caring_labels=vision_classes, transform=transform)\n",
    "val_loader = torch.utils.data.DataLoader(val_set, batch_size=batch_size, shuffle=False)\n",
    "\n",
    "# model = model.cuda()\n",
    "model.eval()\n",
    "\n",
    "\n",
    "# Confusion matrix\n",
    "y_true = []\n",
    "y_pred = []\n",
    "total_outputs = []\n",
    "i = 0\n",
    "for inputs, labels in val_loader:\n",
    "    inputs = [i.to(device) for i in inputs]\n",
    "    labels = labels.to(device)\n",
    "    outputs = model(inputs)\n",
    "    y_true.extend(labels.cpu().numpy())\n",
    "    y_pred.extend(torch.where(outputs.sigmoid() > 0.5, 1.0, 0.0).cpu().numpy())\n",
    "    total_outputs.extend(outputs.detach().cpu().numpy())\n",
    "    if i % 100 == 0:\n",
    "        print(f'Batch {i+1}/{len(val_loader)}')\n",
    "    i+=1\n",
    "\n",
    "# cm = confusion_matrix(y_true, y_pred)\n",
    "# print(cm)"
   ]
  },
  {
   "cell_type": "code",
   "execution_count": 32,
   "outputs": [],
   "source": [
    "predictions = np.array(y_pred)\n",
    "GTs = np.array(y_true)\n",
    "probs = torch.tensor(np.array(total_outputs)).sigmoid()"
   ],
   "metadata": {
    "collapsed": false,
    "ExecuteTime": {
     "start_time": "2023-05-02T12:43:08.483295Z",
     "end_time": "2023-05-02T12:43:08.500294Z"
    }
   }
  },
  {
   "cell_type": "code",
   "execution_count": 75,
   "outputs": [],
   "source": [
    "from sklearn.metrics import multilabel_confusion_matrix, f1_score\n",
    "def calculate_metrics(y_true, y_pred):\n",
    "\n",
    "    multilabel_cm = multilabel_confusion_matrix(y_true, y_pred)\n",
    "\n",
    "    TP = np.diag(multilabel_cm[:,:,1])\n",
    "    TN = np.diag(multilabel_cm[:,:,0])\n",
    "    FP = multilabel_cm[:,1,0]\n",
    "    FN = multilabel_cm[:,0,1]\n",
    "\n",
    "    f1 = f1_score(y_true, y_pred, average='weighted')\n",
    "\n",
    "    print(\"F1-score:\", f1)\n",
    "\n",
    "    return f1, TP, TN, FP, FN\n",
    "\n",
    "\n"
   ],
   "metadata": {
    "collapsed": false,
    "ExecuteTime": {
     "start_time": "2023-05-02T12:56:23.149753Z",
     "end_time": "2023-05-02T12:56:23.156752Z"
    }
   }
  },
  {
   "cell_type": "code",
   "execution_count": 85,
   "metadata": {
    "collapsed": false,
    "ExecuteTime": {
     "start_time": "2023-05-02T15:01:00.780532Z",
     "end_time": "2023-05-02T15:01:00.791532Z"
    }
   },
   "outputs": [
    {
     "name": "stdout",
     "output_type": "stream",
     "text": [
      "Confusion Matrix:\n",
      "[[[1312   22]\n",
      "  [ 259    5]]\n",
      "\n",
      " [[1593    0]\n",
      "  [   5    0]]\n",
      "\n",
      " [[  22  961]\n",
      "  [   4  611]]]\n",
      "Other indicator\n",
      "F1-score: 0.3989901374960783\n",
      "Accuracy: 0.7390488110137672\n",
      "Precision: 0.3257071814828887\n",
      "Recall: 0.6968325791855203\n"
     ]
    },
    {
     "name": "stderr",
     "output_type": "stream",
     "text": [
      "C:\\Users\\36394\\anaconda3\\envs\\art_med\\lib\\site-packages\\sklearn\\metrics\\_classification.py:1344: UndefinedMetricWarning: Precision is ill-defined and being set to 0.0 in labels with no predicted samples. Use `zero_division` parameter to control this behavior.\n",
      "  _warn_prf(average, modifier, msg_start, len(result))\n"
     ]
    }
   ],
   "source": [
    "from sklearn.metrics import precision_score, recall_score\n",
    "threshold = 0.33\n",
    "predictions = torch.where(probs > threshold, 1.0, 0.0).cpu().numpy()\n",
    "print(\"Confusion Matrix:\")\n",
    "print(multilabel_confusion_matrix(GTs, predictions))\n",
    "print(\"Other indicator\")\n",
    "calculate_metrics(GTs, predictions)\n",
    "print(\"Accuracy: {}\".format(np.sum(predictions == GTs)/GTs.size))\n",
    "precision = precision_score(GTs, predictions, average='weighted')\n",
    "recall = recall_score(GTs, predictions, average='weighted')\n",
    "print(\"Precision: {}\".format(precision))\n",
    "print(\"Recall: {}\".format(recall))"
   ]
  },
  {
   "cell_type": "code",
   "execution_count": 5,
   "metadata": {
    "collapsed": false
   },
   "outputs": [
    {
     "data": {
      "text/plain": "<Figure size 500x500 with 2 Axes>",
      "image/png": "[encoded data removed]"
     },
     "metadata": {},
     "output_type": "display_data"
    }
   ],
   "source": [
    "# Plot confusion matrix\n",
    "plt.figure(figsize=(5, 5))\n",
    "sns.heatmap(cm, annot=True, fmt='d', cmap='Blues')\n",
    "plt.title('Confusion matrix')\n",
    "plt.ylabel('True label')\n",
    "plt.xlabel('Predicted label')\n",
    "plt.show()"
   ]
  }
 ],
 "metadata": {
  "kernelspec": {
   "display_name": "art_med",
   "language": "python",
   "name": "python3"
  },
  "language_info": {
   "codemirror_mode": {
    "name": "ipython",
    "version": 3
   },
   "file_extension": ".py",
   "mimetype": "text/x-python",
   "name": "python",
   "nbconvert_exporter": "python",
   "pygments_lexer": "ipython3",
   "version": "3.9.13"
  },
  "vscode": {
   "interpreter": {
    "hash": "a3b71286187f7d0bf192c63da714a1cee0027619278f52a0c3725940ac5f59e2"
   }
  }
 },
 "nbformat": 4,
 "nbformat_minor": 0
}
