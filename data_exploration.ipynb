{
 "cells": [
  {
   "cell_type": "code",
   "execution_count": 1,
   "metadata": {
    "collapsed": true,
    "pycharm": {
     "name": "#%%\n"
    }
   },
   "outputs": [],
   "source": [
    "import os, cv2, glob\n",
    "import numpy as np\n",
    "import pandas as pd"
   ]
  },
  {
   "cell_type": "markdown",
   "metadata": {
    "collapsed": false,
    "pycharm": {
     "name": "#%% md\n"
    }
   },
   "source": [
    "## Explore data duration"
   ]
  },
  {
   "cell_type": "code",
   "execution_count": 2,
   "metadata": {
    "collapsed": false,
    "pycharm": {
     "name": "#%%\n"
    }
   },
   "outputs": [],
   "source": [
    "# Define the dataset folder\n",
    "dir_dataset = \"C:/Users/36394/Study/GWU/PHD in Biomedical Engineer/Research/FOS/Autism_dataset\"\n",
    "dir_raw = os.path.join(dir_dataset, 'Data')\n"
   ]
  },
  {
   "cell_type": "code",
   "execution_count": 3,
   "metadata": {
    "collapsed": false,
    "pycharm": {
     "name": "#%%\n"
    }
   },
   "outputs": [],
   "source": [
    "# Find all the video path\n",
    "g = os.walk(dir_raw)\n",
    "paths_video = []\n",
    "for path,dir_list,file_list in g:\n",
    "    for file_name in file_list:\n",
    "        paths_video.append(os.path.join(path, file_name))\n",
    "paths_video = [i for i in paths_video if i[-4:]!= 'xlsx']\n",
    "paths_video = [i for i in paths_video if i[-4:]!= '.zip']"
   ]
  },
  {
   "cell_type": "code",
   "execution_count": 4,
   "metadata": {
    "collapsed": false,
    "pycharm": {
     "name": "#%%\n"
    }
   },
   "outputs": [],
   "source": [
    "# Find the good video (8 < duration < 15)\n",
    "videos = {'name': [], 'duration': []}\n",
    "for path_video in paths_video:\n",
    "    cap = cv2.VideoCapture(path_video)\n",
    "    if cap.isOpened():\n",
    "        rate = cap.get(5)\n",
    "        FrameNumber = cap.get(7)\n",
    "        duration = (FrameNumber/rate) / 60\n",
    "        name = path_video.split('Data\\\\')[1]\n",
    "        videos['name'].append(name)\n",
    "        videos['duration'].append(duration)\n",
    "df_videos = pd.DataFrame(videos)\n",
    "df_videos = df_videos.sort_values('duration')\n",
    "df_long_videos = df_videos.loc[df_videos['duration'] > 15]\n",
    "df_short_videos = df_videos.loc[df_videos['duration'] < 8]\n",
    "df_good_videos = df_videos.loc[(8 < df_videos['duration']) & (df_videos['duration'] < 15)]"
   ]
  },
  {
   "cell_type": "code",
   "execution_count": 5,
   "metadata": {
    "collapsed": false,
    "pycharm": {
     "name": "#%%\n"
    }
   },
   "outputs": [],
   "source": [
    "# Save the video not good for duration\n",
    "df_short_videos.to_csv('short_video.csv', index=False)\n",
    "df_long_videos.to_csv('long_video.csv', index=False)\n",
    "df_good_videos.to_csv('good_video.csv', index_label=False)"
   ]
  },
  {
   "cell_type": "markdown",
   "metadata": {
    "collapsed": false,
    "pycharm": {
     "name": "#%% md\n"
    }
   },
   "source": [
    "## data preprocessing"
   ]
  },
  {
   "cell_type": "code",
   "execution_count": 8,
   "metadata": {
    "collapsed": false,
    "pycharm": {
     "name": "#%%\n"
    }
   },
   "outputs": [
    {
     "name": "stdout",
     "output_type": "stream",
     "text": [
      "Bad data here, need to fixed: print C:/Users/36394/Study/GWU/PHD in Biomedical Engineer/Research/FOS/Autism_dataset\\Data\\5th\\LJH\\5th_LJH_Following Intructions.mp4\n"
     ]
    }
   ],
   "source": [
    "# Process each good videos\n",
    "for num_video, name in enumerate(df_good_videos.name.tolist()):\n",
    "    path_video = os.path.join(dir_raw, name)\n",
    "    path_label = glob.glob(os.path.join(os.path.dirname(path_video), '*.xlsx'))[0]\n",
    "    names_sheet = pd.ExcelFile(path_label).sheet_names\n",
    "    if 'Alone' in os.path.basename(path_video):\n",
    "        df_label = pd.read_excel(path_label, sheet_name=\"alone\" if \"alone\" in names_sheet else \"Alone\")\n",
    "    elif 'Instruction' in os.path.basename(path_video):\n",
    "        df_label = pd.read_excel(path_label, sheet_name=\"instruction\" if \"instruction\" in names_sheet else \"Instruction\")\n",
    "    elif 'Playtime' in os.path.basename(path_video):\n",
    "        df_label = pd.read_excel(path_label, sheet_name=\"playtime\" if \"playtime\" in names_sheet else \"Playtime\")\n",
    "    else:\n",
    "        print(\"Bad data here, need to fixed: print {}\".format(path_video))\n",
    "        break\n",
    "\n",
    "    # Find the row that contains all the table head.\n",
    "    index_head = 0\n",
    "    index_tail = 0\n",
    "    for index, col in df_label.iteritems():\n",
    "        index_head_tail = col[col == 'Time'].index\n",
    "        if len(index_head_tail) > 0:\n",
    "            index_head = index_head_tail[0]\n",
    "            index_tail = index_head_tail[1]\n",
    "            break\n",
    "\n",
    "    # Check head and tail error:\n",
    "    if index_head + index_tail < 20:\n",
    "        print('Something wrong for the head and tail index.')\n",
    "        break\n",
    "\n",
    "    # Change the head of the dataframe\n",
    "    df_label.columns = df_label.iloc[index_head].values\n",
    "\n",
    "    # Crop the df_label to keep valuable information\n",
    "    ind_col_head, ind_col_tail = np.where(df_label.columns == 'Time')[0]\n",
    "    df_label = df_label.iloc[index_head+1:index_tail]\n",
    "    df_label = df_label.iloc[:, ind_col_head:ind_col_tail]\n",
    "\n",
    "    # Change the duplicate header names (eg: Int to Int_parent and Int_child)\n",
    "    index_Int = np.where(df_label.columns == 'Int')[0]\n",
    "    df_label.columns.values[index_Int[0]] = 'Int_parent'\n",
    "    df_label.columns.values[index_Int[1]] = 'Int_child'\n",
    "    index_Int = np.where(df_label.columns == 'Aff')[0]\n",
    "    df_label.columns.values[index_Int[0]] = 'Aff_parent'\n",
    "    df_label.columns.values[index_Int[1]] = 'Aff_child'\n",
    "\n",
    "    # Preprocess the video:\n",
    "    cap = cv2.VideoCapture(path_video)\n",
    "    if cap.isOpened():\n",
    "        fps = cap.get(5)\n",
    "        FrameNumber = cap.get(7)\n",
    "        frame_width = int(cap.get(3))\n",
    "        frame_height = int(cap.get(4))\n",
    "\n",
    "        size = (frame_width, frame_height)\n",
    "        num_frame = 0\n",
    "        # info_label = df_label.iterrows()\n",
    "    else:\n",
    "        break\n",
    "\n",
    "    for index, row in df_label.iterrows():\n",
    "        # initial set up for interval\n",
    "        start_time = row['Time']\n",
    "        frame_start = start_time.minute * fps + start_time.hour * 60 * fps\n",
    "        frame_end = 10 * fps + frame_start\n",
    "        temp_list_frames = []\n",
    "        # Crop the corresponding video\n",
    "        while num_frame <= frame_end:\n",
    "            success,frame = cap.read()\n",
    "            num_frame += 1\n",
    "            if not success:\n",
    "                break\n",
    "            temp_list_frames.append(frame)\n",
    "        # Check the labels of this video and save it in the corresponding folder\n",
    "        labels = [i for i in row.index if row[i]==1]\n",
    "        for label in labels:\n",
    "            fourcc = cv2.VideoWriter_fourcc(*'MP4V')\n",
    "            dir_save_video = os.path.dirname(path_video.replace('Data', 'Data_processed/{}'.format(label)))\n",
    "            if not os.path.exists(dir_save_video):\n",
    "                os.makedirs(dir_save_video)\n",
    "            name_save_video = '{}_{}.mp4'.format(num_video, len(os.listdir(dir_save_video)))\n",
    "            path_save_video = os.path.join(dir_save_video, name_save_video)\n",
    "            videoWriter = cv2.VideoWriter(path_save_video,fourcc,fps,size)\n",
    "            for frame in temp_list_frames:\n",
    "                videoWriter.write(frame)\n",
    "            videoWriter.release()\n",
    "    \n"
   ]
  },
  {
   "cell_type": "markdown",
   "metadata": {
    "collapsed": false,
    "pycharm": {
     "name": "#%% md\n"
    }
   },
   "source": [
    "## Process the short video"
   ]
  },
  {
   "cell_type": "code",
   "execution_count": 16,
   "metadata": {
    "collapsed": false,
    "pycharm": {
     "name": "#%%\n"
    }
   },
   "outputs": [
    {
     "data": {
      "text/plain": [
       "array(['Following Instructions1.MP4', 'Following Instructions2.MP4',\n",
       "       'Home_Following Instructions_Clean Up.MP4',\n",
       "       'Home_Following Instructions_Clean Up.mp4',\n",
       "       'Home_Following Instructions_Freely.MP4',\n",
       "       'Home_Following Instructions_Freely.mpg',\n",
       "       'Home_Following Instructions_List.MP4', 'Home_Playing Alone.mp4',\n",
       "       'Home_Playing Alone1.MP4', 'Home_Playing Alone2.MP4',\n",
       "       'Home_Playtime.mp4', 'Home_Playtime_Casual Interaction.MP4',\n",
       "       'Home_Playtime_New Toys.MP4',\n",
       "       'Home_Playtime_Physical Activity.MP4',\n",
       "       'Home_Playtime_Physical Activity.mpg',\n",
       "       'Hospital_Following Instructions_Clean Up.MP4',\n",
       "       'Hospital_Following Instructions_Freely.MP4',\n",
       "       'Hospital_Following Instructions_List.MP4',\n",
       "       'Hospital_Playing Alone 1.MP4', 'Hospital_Playing Alone 2.MP4',\n",
       "       'Hospital_Playtime_Casual Interaction.MP4',\n",
       "       'Hospital_Playtime_New Toys.MP4', 'Hospital_Playtime_New toys.MP4',\n",
       "       'Hospital_Playtime_Physical Activity .MP4',\n",
       "       'Hospital_Playtime_Physical Activity.MP4', 'Playtime1.MP4',\n",
       "       'Playtime2.MP4'], dtype='<U44')"
      ]
     },
     "execution_count": 16,
     "metadata": {},
     "output_type": "execute_result"
    }
   ],
   "source": [
    "np.unique([os.path.basename(i) for i in df_short_videos.name])"
   ]
  },
  {
   "cell_type": "code",
   "execution_count": 12,
   "metadata": {
    "collapsed": false,
    "pycharm": {
     "name": "#%%\n"
    }
   },
   "outputs": [
    {
     "data": {
      "text/html": [
       "<div>\n",
       "<style scoped>\n",
       "    .dataframe tbody tr th:only-of-type {\n",
       "        vertical-align: middle;\n",
       "    }\n",
       "\n",
       "    .dataframe tbody tr th {\n",
       "        vertical-align: top;\n",
       "    }\n",
       "\n",
       "    .dataframe thead th {\n",
       "        text-align: right;\n",
       "    }\n",
       "</style>\n",
       "<table border=\"1\" class=\"dataframe\">\n",
       "  <thead>\n",
       "    <tr style=\"text-align: right;\">\n",
       "      <th></th>\n",
       "      <th>name</th>\n",
       "      <th>duration</th>\n",
       "    </tr>\n",
       "  </thead>\n",
       "  <tbody>\n",
       "    <tr>\n",
       "      <th>92</th>\n",
       "      <td>20th\\BAM\\Hospital_Playtime_New Toys.MP4</td>\n",
       "      <td>2.013122</td>\n",
       "    </tr>\n",
       "    <tr>\n",
       "      <th>86</th>\n",
       "      <td>20th\\BAM\\Hospital_Following Instructions_Clean...</td>\n",
       "      <td>2.044264</td>\n",
       "    </tr>\n",
       "    <tr>\n",
       "      <th>120</th>\n",
       "      <td>21th\\KSJ\\Hospital_Playtime_New Toys.MP4</td>\n",
       "      <td>2.046489</td>\n",
       "    </tr>\n",
       "    <tr>\n",
       "      <th>157</th>\n",
       "      <td>23th\\JBH\\Hospital_Following Instructions_Clean...</td>\n",
       "      <td>2.064284</td>\n",
       "    </tr>\n",
       "    <tr>\n",
       "      <th>115</th>\n",
       "      <td>21th\\KSJ\\Hospital_Following Instructions_Clean...</td>\n",
       "      <td>2.074851</td>\n",
       "    </tr>\n",
       "    <tr>\n",
       "      <th>...</th>\n",
       "      <td>...</td>\n",
       "      <td>...</td>\n",
       "    </tr>\n",
       "    <tr>\n",
       "      <th>180</th>\n",
       "      <td>5th\\LCD\\Home_Playtime.mp4</td>\n",
       "      <td>5.373702</td>\n",
       "    </tr>\n",
       "    <tr>\n",
       "      <th>123</th>\n",
       "      <td>21th\\LJH\\Home_Following Instructions_Freely.MP4</td>\n",
       "      <td>5.761867</td>\n",
       "    </tr>\n",
       "    <tr>\n",
       "      <th>87</th>\n",
       "      <td>20th\\BAM\\Hospital_Following Instructions_Freel...</td>\n",
       "      <td>6.006556</td>\n",
       "    </tr>\n",
       "    <tr>\n",
       "      <th>80</th>\n",
       "      <td>19th\\KDH\\Home_Playing Alone1.MP4</td>\n",
       "      <td>7.558940</td>\n",
       "    </tr>\n",
       "    <tr>\n",
       "      <th>175</th>\n",
       "      <td>24th\\UJW\\Home_Playtime_Casual Interaction.MP4</td>\n",
       "      <td>7.680451</td>\n",
       "    </tr>\n",
       "  </tbody>\n",
       "</table>\n",
       "<p>100 rows × 2 columns</p>\n",
       "</div>"
      ],
      "text/plain": [
       "                                                  name  duration\n",
       "92             20th\\BAM\\Hospital_Playtime_New Toys.MP4  2.013122\n",
       "86   20th\\BAM\\Hospital_Following Instructions_Clean...  2.044264\n",
       "120            21th\\KSJ\\Hospital_Playtime_New Toys.MP4  2.046489\n",
       "157  23th\\JBH\\Hospital_Following Instructions_Clean...  2.064284\n",
       "115  21th\\KSJ\\Hospital_Following Instructions_Clean...  2.074851\n",
       "..                                                 ...       ...\n",
       "180                          5th\\LCD\\Home_Playtime.mp4  5.373702\n",
       "123    21th\\LJH\\Home_Following Instructions_Freely.MP4  5.761867\n",
       "87   20th\\BAM\\Hospital_Following Instructions_Freel...  6.006556\n",
       "80                    19th\\KDH\\Home_Playing Alone1.MP4  7.558940\n",
       "175      24th\\UJW\\Home_Playtime_Casual Interaction.MP4  7.680451\n",
       "\n",
       "[100 rows x 2 columns]"
      ]
     },
     "execution_count": 12,
     "metadata": {},
     "output_type": "execute_result"
    }
   ],
   "source": [
    "df_short_videos.name"
   ]
  },
  {
   "cell_type": "code",
   "execution_count": 14,
   "metadata": {
    "collapsed": false,
    "pycharm": {
     "name": "#%%\n"
    }
   },
   "outputs": [
    {
     "data": {
      "text/plain": [
       "['5th\\\\LCD\\\\Home_Playing Alone.mp4',\n",
       " '19th\\\\KDH\\\\Home_Playing Alone2.MP4',\n",
       " '20th\\\\BAM\\\\Hospital_Playing Alone 1.MP4',\n",
       " '20th\\\\BAM\\\\Hospital_Playing Alone 2.MP4',\n",
       " '19th\\\\KDH\\\\Home_Playing Alone1.MP4']"
      ]
     },
     "execution_count": 14,
     "metadata": {},
     "output_type": "execute_result"
    }
   ],
   "source": [
    "[i for i in df_short_videos.name if 'Alone' in i]"
   ]
  },
  {
   "cell_type": "code",
   "execution_count": 20,
   "metadata": {
    "collapsed": false,
    "pycharm": {
     "name": "#%%\n"
    }
   },
   "outputs": [
    {
     "data": {
      "text/plain": [
       "1567.6955324296296"
      ]
     },
     "execution_count": 20,
     "metadata": {},
     "output_type": "execute_result"
    }
   ],
   "source": [
    "np.sum(df_videos.duration)"
   ]
  }
 ],
 "metadata": {
  "kernelspec": {
   "display_name": "art_med",
   "language": "python",
   "name": "python3"
  },
  "language_info": {
   "codemirror_mode": {
    "name": "ipython",
    "version": 2
   },
   "file_extension": ".py",
   "mimetype": "text/x-python",
   "name": "python",
   "nbconvert_exporter": "python",
   "pygments_lexer": "ipython2",
   "version": "3.9.13"
  },
  "vscode": {
   "interpreter": {
    "hash": "a3b71286187f7d0bf192c63da714a1cee0027619278f52a0c3725940ac5f59e2"
   }
  }
 },
 "nbformat": 4,
 "nbformat_minor": 0
}