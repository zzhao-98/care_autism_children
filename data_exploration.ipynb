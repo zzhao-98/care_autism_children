{
 "cells": [
  {
   "cell_type": "code",
   "execution_count": 1,
   "metadata": {
    "collapsed": true,
    "pycharm": {
     "name": "#%%\n"
    }
   },
   "outputs": [],
   "source": [
    "import os, cv2, glob\n",
    "import numpy as np\n",
    "import pandas as pd"
   ]
  },
  {
   "cell_type": "markdown",
   "metadata": {
    "collapsed": false,
    "pycharm": {
     "name": "#%% md\n"
    }
   },
   "source": [
    "## Explore data duration"
   ]
  },
  {
   "cell_type": "code",
   "execution_count": 2,
   "metadata": {
    "collapsed": false,
    "pycharm": {
     "name": "#%%\n"
    }
   },
   "outputs": [],
   "source": [
    "# Define the dataset folder\n",
    "dir_dataset = \"C:/Users/36394/Study/GWU/PHD in Biomedical Engineer/Research/FOS/Autism_dataset\"\n",
    "dir_raw = os.path.join(dir_dataset, 'Data')\n"
   ]
  },
  {
   "cell_type": "code",
   "execution_count": 3,
   "metadata": {
    "collapsed": false,
    "pycharm": {
     "name": "#%%\n"
    }
   },
   "outputs": [],
   "source": [
    "# Find all the video paths\n",
    "g = os.walk(dir_raw)\n",
    "paths_video = []\n",
    "for path,dir_list,file_list in g:\n",
    "    for file_name in file_list:\n",
    "        if file_name[-4:] != 'xlsx' and file_name[-4:]!= '.zip':\n",
    "            paths_video.append(os.path.join(path, file_name))"
   ]
  },
  {
   "cell_type": "code",
   "execution_count": 4,
   "metadata": {
    "collapsed": false,
    "pycharm": {
     "name": "#%%\n"
    }
   },
   "outputs": [],
   "source": [
    "# Find the good video (8 < duration < 15)\n",
    "videos = {'name': [], 'duration': []}\n",
    "for path_video in paths_video:\n",
    "    cap = cv2.VideoCapture(path_video)\n",
    "    if cap.isOpened():\n",
    "        rate = cap.get(5)\n",
    "        FrameNumber = cap.get(7)\n",
    "        duration = (FrameNumber/rate) / 60\n",
    "        name = path_video.split('Data\\\\')[1]\n",
    "        videos['name'].append(name)\n",
    "        videos['duration'].append(duration)\n",
    "df_videos = pd.DataFrame(videos)\n",
    "df_videos = df_videos.sort_values('duration')\n",
    "df_long_videos = df_videos.loc[df_videos['duration'] > 15]\n",
    "df_short_videos = df_videos.loc[df_videos['duration'] < 8]\n",
    "df_good_videos = df_videos.loc[(8 < df_videos['duration']) & (df_videos['duration'] < 15)]"
   ]
  },
  {
   "cell_type": "code",
   "execution_count": null,
   "metadata": {
    "collapsed": false,
    "pycharm": {
     "name": "#%%\n"
    }
   },
   "outputs": [],
   "source": [
    "# Save the video not good for duration\n",
    "df_short_videos.to_csv('short_video.csv', index=False)\n",
    "df_long_videos.to_csv('long_video.csv', index=False)\n",
    "df_good_videos.to_csv('good_video.csv', index_label=False)"
   ]
  },
  {
   "cell_type": "code",
   "execution_count": null,
   "metadata": {
    "collapsed": false,
    "pycharm": {
     "name": "#%%\n"
    }
   },
   "outputs": [
    {
     "name": "stdout",
     "output_type": "stream",
     "text": [
      "107\n",
      "1\n",
      "108\n"
     ]
    }
   ],
   "source": [
    "print(len(df_good_videos))\n",
    "print(len(df_long_videos))\n",
    "print(len(df_short_videos))"
   ]
  },
  {
   "cell_type": "code",
   "execution_count": null,
   "metadata": {
    "collapsed": false,
    "pycharm": {
     "name": "#%%\n"
    }
   },
   "outputs": [],
   "source": [
    "subjects_short_videos = np.unique([name.split('\\\\')[0]+'/'+name.split('\\\\')[1] for name in df_short_videos.name.to_list()])\n",
    "dict_subject_short_video = {}\n",
    "for subject in subjects_short_videos:\n",
    "    dir_subject = os.path.join(dir_raw, subject)\n",
    "    list_videos = glob.glob(os.path.join(dir_subject, '*[!xlsx]'))\n",
    "    dict_subject_short_video[subject] = len(list_videos)"
   ]
  },
  {
   "cell_type": "markdown",
   "metadata": {
    "collapsed": false,
    "pycharm": {
     "name": "#%% md\n"
    }
   },
   "source": [
    "## data preprocessing"
   ]
  },
  {
   "cell_type": "code",
   "execution_count": 7,
   "outputs": [
    {
     "name": "stdout",
     "output_type": "stream",
     "text": [
      "216\n",
      "215\n",
      "                                  name  duration\n",
      "207  5th\\LJH\\5th_LJH_Playtime_다른사람.mp4  1.394150\n",
      "215      6th\\SSH\\6th_SSH_에서 떨어진 영상.mp4  2.674892\n",
      "9    12th\\LDK\\12th_LDK_에서 떨어져나온 영상.mp4  4.644639\n",
      "212\n"
     ]
    }
   ],
   "source": [
    "import re\n",
    "# Find the good videos (duration < 15) and without Korean characters in the name.\n",
    "videos = {'name': [], 'duration': []}\n",
    "for path_video in paths_video:\n",
    "    cap = cv2.VideoCapture(path_video)\n",
    "    if cap.isOpened():\n",
    "        rate = cap.get(5)\n",
    "        FrameNumber = cap.get(7)\n",
    "        duration = (FrameNumber/rate) / 60\n",
    "        name = path_video.split('Data\\\\')[1]\n",
    "        videos['name'].append(name)\n",
    "        videos['duration'].append(duration)\n",
    "df_videos = pd.DataFrame(videos)\n",
    "# Drop all the videos with duration longer than 15 minutes.\n",
    "print(len(df_videos))\n",
    "df_videos = df_videos.loc[df_videos['duration'] < 15]\n",
    "df_videos = df_videos.sort_values('duration')\n",
    "print(len(df_videos))\n",
    "# Drop all the videos with Korean characters in the name.\n",
    "print(df_videos.loc[df_videos['name'].str.contains('[ㄱ-ㅎㅏ-ㅣ가-힣]') == True])\n",
    "df_videos = df_videos.loc[df_videos['name'].str.contains('[ㄱ-ㅎㅏ-ㅣ가-힣]') == False]\n",
    "print(len(df_videos))\n",
    "# Sort the index\n",
    "df_videos = df_videos.reset_index(drop=True)"
   ],
   "metadata": {
    "collapsed": false,
    "pycharm": {
     "name": "#%%\n"
    }
   }
  },
  {
   "cell_type": "code",
   "execution_count": null,
   "outputs": [],
   "source": [
    "# Process each good video\n",
    "dict_processed = {'path': [], 'labels': []}\n",
    "for num_video, name in enumerate(df_videos.name.tolist()):\n",
    "    path_video = os.path.join(dir_raw, name)\n",
    "    path_label = glob.glob(os.path.join(os.path.dirname(path_video), '*.xlsx'))[0]\n",
    "    names_sheet = pd.ExcelFile(path_label).sheet_names\n",
    "    if 'Alone' in os.path.basename(path_video):\n",
    "        df_label = pd.read_excel(path_label, sheet_name=\"alone\" if \"alone\" in names_sheet else \"Alone\")\n",
    "    elif 'Instruction' in os.path.basename(path_video):\n",
    "        df_label = pd.read_excel(path_label, sheet_name=\"instruction\" if \"instruction\" in names_sheet else \"Instruction\")\n",
    "    elif 'Playtime' in os.path.basename(path_video):\n",
    "        df_label = pd.read_excel(path_label, sheet_name=\"playtime\" if \"playtime\" in names_sheet else \"Playtime\")\n",
    "    else:\n",
    "        print(\"Bad data here, need to fixed: print {}\".format(path_video))\n",
    "        break\n",
    "\n",
    "    # Find the row that contains all the table head.\n",
    "    index_head = 0\n",
    "    index_tail = 0\n",
    "    for index, col in df_label.iteritems():\n",
    "        index_head_tail = col[col == 'Time'].index\n",
    "        if len(index_head_tail) > 0:\n",
    "            index_head = index_head_tail[0]\n",
    "            index_tail = index_head_tail[1]\n",
    "            break\n",
    "\n",
    "    # Check head and tail error:\n",
    "    if index_head + index_tail < 20:\n",
    "        print('Something wrong for the head and tail index.')\n",
    "        break\n",
    "\n",
    "    # Change the head of the dataframe\n",
    "    df_label.columns = df_label.iloc[index_head].values\n",
    "\n",
    "    # Crop the df_label to keep valuable information\n",
    "    ind_col_head, ind_col_tail = np.where(df_label.columns == 'Time')[0]\n",
    "    df_label = df_label.iloc[index_head+1:index_tail]\n",
    "    df_label = df_label.iloc[:, ind_col_head:ind_col_tail]\n",
    "\n",
    "    # Change the duplicate header names (eg: Int to Int_parent and Int_child)\n",
    "    index_Int = np.where(df_label.columns == 'Int')[0]\n",
    "    df_label.columns.values[index_Int[0]] = 'Int_parent'\n",
    "    df_label.columns.values[index_Int[1]] = 'Int_child'\n",
    "    index_Int = np.where(df_label.columns == 'Aff')[0]\n",
    "    df_label.columns.values[index_Int[0]] = 'Aff_parent'\n",
    "    df_label.columns.values[index_Int[1]] = 'Aff_child'\n",
    "    \n",
    "    # Check if the label is empty\n",
    "    if df_label.drop(columns=['Time']).fillna(0).applymap(lambda x: 0 if x != 1 else x).values.sum() < 10:\n",
    "        print(\"There is no label for this video: {}\".format(path_video))\n",
    "        continue\n",
    "\n",
    "\n",
    "    # Crop the label to match the video\n",
    "    match = re.search(r'(alone|playtime|instructions)\\s*(\\d+)', name, re.IGNORECASE)\n",
    "    if re.search(r\"interaction\", name, re.IGNORECASE):\n",
    "        df_label = df_label[0:30] # First 5 minutes\n",
    "    elif re.search(r\"activity\", name, re.IGNORECASE):\n",
    "        df_label = df_label[30:48] # 5 - 8 minutes\n",
    "    elif re.search(r\"toy\", name, re.IGNORECASE):\n",
    "        df_label = df_label[48:60] # 8 - 10 minutes\n",
    "    elif re.search(r\"clean\", name, re.IGNORECASE):\n",
    "        df_label = df_label[0:12] # First 2 minutes\n",
    "    elif re.search(r\"list\", name, re.IGNORECASE):\n",
    "        df_label = df_label[12:30] # 2 - 5 minutes\n",
    "    elif re.search(r\"freely\", name, re.IGNORECASE):\n",
    "        df_label = df_label[30:60] # 5 - 10 minutes\n",
    "    elif match: # Crop the label to match the video if the video is like \"Alone 1\" or \"Playtime 2\"\n",
    "        num_video = int(match.group(2))\n",
    "        duration = df_videos.loc[df_videos['name'] == name, 'duration'].values[0]\n",
    "        if duration < 4:\n",
    "            print(\"The video {} is too short, skip it.\".format(name))\n",
    "            continue\n",
    "        if num_video == 1:\n",
    "            df_label = df_label[0:30] # First 5 minutes\n",
    "        elif num_video == 2:\n",
    "            df_label = df_label[30:60] # 5 - 10 minutes\n",
    "        else:\n",
    "            print(\"Something wrong with the video name: {}, break!!!!!!!!\".format(name))\n",
    "            break\n",
    "    elif name in df_good_videos.name.tolist(): # Good video's label doesn't need to be cropped\n",
    "        pass\n",
    "    else:\n",
    "        print(\"Something wrong with the video name: {}, can't be processed\".format(name))\n",
    "        continue\n",
    "    \n",
    "    # Preprocess the video:\n",
    "    cap = cv2.VideoCapture(path_video)\n",
    "    if cap.isOpened():\n",
    "        fps = cap.get(5)\n",
    "        FrameNumber = cap.get(7)\n",
    "        frame_width = int(cap.get(3))\n",
    "        frame_height = int(cap.get(4))\n",
    "\n",
    "        size = (frame_width, frame_height)\n",
    "        num_frame = 0\n",
    "    else:\n",
    "        break\n",
    "    \n",
    "    \n",
    "    # Cut the video into 10 seconds interval and save them.\n",
    "    for index, row in df_label.iterrows():\n",
    "        # initial set up for interval\n",
    "        start_time = row['Time']\n",
    "        frame_start = start_time.minute * fps + start_time.hour * 60 * fps\n",
    "        frame_end = 10 * fps + frame_start\n",
    "        temp_list_frames = []\n",
    "        # Crop the corresponding video\n",
    "        while num_frame <= frame_end:\n",
    "            success,frame = cap.read()\n",
    "            num_frame += 1\n",
    "            if not success:\n",
    "                continue\n",
    "            temp_list_frames.append(frame)\n",
    "        # Check the labels of this video and save it in the corresponding folder\n",
    "        labels = [i for i in row.index if row[i]==1]\n",
    "        fourcc = cv2.VideoWriter_fourcc(*'MP4V')\n",
    "        dir_save_video = os.path.dirname(path_video.replace('Data', 'Data_processed'))\n",
    "        if not os.path.exists(dir_save_video):\n",
    "            os.makedirs(dir_save_video)\n",
    "        name_save_video = '{}_{}.mp4'.format(os.path.basename(name), index)\n",
    "        path_save_video = os.path.join(dir_save_video, name_save_video)\n",
    "        videoWriter = cv2.VideoWriter(path_save_video,fourcc,fps,size)\n",
    "        for frame in temp_list_frames:\n",
    "            videoWriter.write(frame)\n",
    "        videoWriter.release()\n",
    "        dict_processed['path'].append(name_save_video)\n",
    "        dict_processed['labels'].append(labels)\n",
    "    df_processed = pd.DataFrame(dict_processed)\n",
    "    df_processed.to_csv('processed_data.csv', index=False)\n",
    "    cap.release()\n",
    "    cv2.destroyAllWindows()\n",
    "    print(\"Finish processing video: {}\".format(name))\n",
    "    "
   ],
   "metadata": {
    "collapsed": false,
    "pycharm": {
     "name": "#%%\n"
    }
   }
  },
  {
   "cell_type": "code",
   "execution_count": null,
   "outputs": [],
   "source": [
    "df_label.drop(columns='Time').fillna(0).AV.unique()"
   ],
   "metadata": {
    "collapsed": false,
    "pycharm": {
     "name": "#%%\n"
    }
   }
  },
  {
   "cell_type": "code",
   "execution_count": null,
   "outputs": [],
   "source": [
    "len([name for name in df_short_videos.name.tolist() if re.search(r'clean|list|freely', name, re.IGNORECASE)])"
   ],
   "metadata": {
    "collapsed": false,
    "pycharm": {
     "name": "#%%\n"
    }
   }
  },
  {
   "cell_type": "code",
   "execution_count": null,
   "outputs": [],
   "source": [
    "len([name for name in df_short_videos.name.tolist() if re.search(r'following', name, re.IGNORECASE)])"
   ],
   "metadata": {
    "collapsed": false,
    "pycharm": {
     "name": "#%%\n"
    }
   }
  },
  {
   "cell_type": "code",
   "execution_count": null,
   "outputs": [],
   "source": [
    "set(name for name in df_short_videos.name.tolist() if re.search(r'following', name, re.IGNORECASE)) - set(name for name in df_short_videos.name.tolist() if re.search(r'clean|list|freely', name, re.IGNORECASE))"
   ],
   "metadata": {
    "collapsed": false,
    "pycharm": {
     "name": "#%%\n"
    }
   }
  },
  {
   "cell_type": "code",
   "execution_count": null,
   "outputs": [],
   "source": [
    "nums = []\n",
    "name_12 = []\n",
    "for name in df_short_videos.name.tolist():\n",
    "    match = re.search(r'(alone|playtime|instructions)\\s*(\\d+)', name, re.IGNORECASE)\n",
    "    if match:\n",
    "        name_12.append(name)\n",
    "        nums.append(match.group(2))"
   ],
   "metadata": {
    "collapsed": false,
    "pycharm": {
     "name": "#%%\n"
    }
   }
  },
  {
   "cell_type": "code",
   "execution_count": null,
   "outputs": [],
   "source": [
    "np.unique(nums)"
   ],
   "metadata": {
    "collapsed": false,
    "pycharm": {
     "name": "#%%\n"
    }
   }
  },
  {
   "cell_type": "code",
   "execution_count": null,
   "outputs": [],
   "source": [
    "df_videos.loc[df_videos.name.isin(name_12)]"
   ],
   "metadata": {
    "collapsed": false,
    "pycharm": {
     "name": "#%%\n"
    }
   }
  },
  {
   "cell_type": "code",
   "execution_count": null,
   "outputs": [],
   "source": [
    "[name for name in df_short_videos.name.tolist() if re.search(r'toy|activity|interaction', name, re.IGNORECASE)]"
   ],
   "metadata": {
    "collapsed": false,
    "pycharm": {
     "name": "#%%\n"
    }
   }
  },
  {
   "cell_type": "code",
   "execution_count": null,
   "metadata": {
    "pycharm": {
     "name": "#%%\n"
    }
   },
   "outputs": [
    {
     "data": {
      "text/plain": [
       "{'13th\\\\LJH\\\\13th_LJH_Following Instructions.mp4',\n",
       " '14th\\\\JJH\\\\Following Instructions1.MP4',\n",
       " '14th\\\\JJH\\\\Following Instructions2.MP4',\n",
       " '14th\\\\LKY\\\\Following Instructions1.MP4',\n",
       " '14th\\\\LKY\\\\Following Instructions2.MP4',\n",
       " '14th\\\\NSW\\\\Following Instructions1.MP4',\n",
       " '14th\\\\NSW\\\\Following Instructions2.MP4',\n",
       " '15th\\\\HTK\\\\Following Instructions1.MP4',\n",
       " '15th\\\\HTK\\\\Following Instructions2.MP4',\n",
       " '5th\\\\KYJ\\\\5th_KYJ_Following Instructions.mp4'}"
      ]
     },
     "execution_count": 40,
     "metadata": {},
     "output_type": "execute_result"
    }
   ],
   "source": [
    "set(name for name in df_short_videos.name.tolist() if re.search(r'following', name, re.IGNORECASE)) - set(name for name in df_short_videos.name.tolist() if re.search(r'clean|list|freely', name, re.IGNORECASE))"
   ]
  },
  {
   "cell_type": "code",
   "execution_count": null,
   "metadata": {
    "pycharm": {
     "name": "#%%\n"
    }
   },
   "outputs": [],
   "source": [
    "nums = []\n",
    "name_12 = []\n",
    "for name in df_short_videos.name.tolist():\n",
    "    match = re.search(r'(alone|playtime|instructions)\\s*(\\d+)', name, re.IGNORECASE)\n",
    "    if match:\n",
    "        name_12.append(name)\n",
    "        nums.append(match.group(2))"
   ]
  },
  {
   "cell_type": "code",
   "execution_count": null,
   "metadata": {
    "pycharm": {
     "name": "#%%\n"
    }
   },
   "outputs": [
    {
     "data": {
      "text/plain": [
       "array(['1', '2'], dtype='<U1')"
      ]
     },
     "execution_count": 63,
     "metadata": {},
     "output_type": "execute_result"
    }
   ],
   "source": [
    "np.unique(nums)"
   ]
  },
  {
   "cell_type": "code",
   "execution_count": null,
   "metadata": {
    "pycharm": {
     "name": "#%%\n"
    }
   },
   "outputs": [
    {
     "data": {
      "text/html": [
       "<div>\n",
       "<style scoped>\n",
       "    .dataframe tbody tr th:only-of-type {\n",
       "        vertical-align: middle;\n",
       "    }\n",
       "\n",
       "    .dataframe tbody tr th {\n",
       "        vertical-align: top;\n",
       "    }\n",
       "\n",
       "    .dataframe thead th {\n",
       "        text-align: right;\n",
       "    }\n",
       "</style>\n",
       "<table border=\"1\" class=\"dataframe\">\n",
       "  <thead>\n",
       "    <tr style=\"text-align: right;\">\n",
       "      <th></th>\n",
       "      <th>name</th>\n",
       "      <th>duration</th>\n",
       "    </tr>\n",
       "  </thead>\n",
       "  <tbody>\n",
       "    <tr>\n",
       "      <th>36</th>\n",
       "      <td>19th\\KDH\\Home_Playing Alone2.MP4</td>\n",
       "      <td>3.097261</td>\n",
       "    </tr>\n",
       "    <tr>\n",
       "      <th>56</th>\n",
       "      <td>15th\\HTK\\Following Instructions1.MP4</td>\n",
       "      <td>4.968853</td>\n",
       "    </tr>\n",
       "    <tr>\n",
       "      <th>57</th>\n",
       "      <td>14th\\NSW\\Playtime2.MP4</td>\n",
       "      <td>4.997771</td>\n",
       "    </tr>\n",
       "    <tr>\n",
       "      <th>58</th>\n",
       "      <td>14th\\JJH\\Following Instructions2.MP4</td>\n",
       "      <td>5.002219</td>\n",
       "    </tr>\n",
       "    <tr>\n",
       "      <th>59</th>\n",
       "      <td>14th\\NSW\\Following Instructions1.MP4</td>\n",
       "      <td>5.002776</td>\n",
       "    </tr>\n",
       "    <tr>\n",
       "      <th>61</th>\n",
       "      <td>14th\\JJH\\Following Instructions1.MP4</td>\n",
       "      <td>5.007781</td>\n",
       "    </tr>\n",
       "    <tr>\n",
       "      <th>62</th>\n",
       "      <td>14th\\JJH\\Playtime1.MP4</td>\n",
       "      <td>5.007781</td>\n",
       "    </tr>\n",
       "    <tr>\n",
       "      <th>63</th>\n",
       "      <td>14th\\NSW\\Playtime1.MP4</td>\n",
       "      <td>5.008893</td>\n",
       "    </tr>\n",
       "    <tr>\n",
       "      <th>64</th>\n",
       "      <td>14th\\LKY\\Following Instructions2.MP4</td>\n",
       "      <td>5.022796</td>\n",
       "    </tr>\n",
       "    <tr>\n",
       "      <th>65</th>\n",
       "      <td>15th\\HTK\\Playtime1.MP4</td>\n",
       "      <td>5.027244</td>\n",
       "    </tr>\n",
       "    <tr>\n",
       "      <th>66</th>\n",
       "      <td>14th\\JJH\\Playtime2.MP4</td>\n",
       "      <td>5.032806</td>\n",
       "    </tr>\n",
       "    <tr>\n",
       "      <th>67</th>\n",
       "      <td>15th\\HTK\\Following Instructions2.MP4</td>\n",
       "      <td>5.032806</td>\n",
       "    </tr>\n",
       "    <tr>\n",
       "      <th>68</th>\n",
       "      <td>14th\\LKY\\Following Instructions1.MP4</td>\n",
       "      <td>5.037811</td>\n",
       "    </tr>\n",
       "    <tr>\n",
       "      <th>69</th>\n",
       "      <td>14th\\LKY\\Playtime1.MP4</td>\n",
       "      <td>5.042816</td>\n",
       "    </tr>\n",
       "    <tr>\n",
       "      <th>70</th>\n",
       "      <td>15th\\HTK\\Playtime2.MP4</td>\n",
       "      <td>5.047821</td>\n",
       "    </tr>\n",
       "    <tr>\n",
       "      <th>75</th>\n",
       "      <td>20th\\BAM\\Hospital_Playing Alone 1.MP4</td>\n",
       "      <td>5.136798</td>\n",
       "    </tr>\n",
       "    <tr>\n",
       "      <th>76</th>\n",
       "      <td>20th\\BAM\\Hospital_Playing Alone 2.MP4</td>\n",
       "      <td>5.146808</td>\n",
       "    </tr>\n",
       "    <tr>\n",
       "      <th>78</th>\n",
       "      <td>14th\\NSW\\Following Instructions2.MP4</td>\n",
       "      <td>5.160155</td>\n",
       "    </tr>\n",
       "    <tr>\n",
       "      <th>81</th>\n",
       "      <td>14th\\LKY\\Playtime2.MP4</td>\n",
       "      <td>5.179063</td>\n",
       "    </tr>\n",
       "    <tr>\n",
       "      <th>102</th>\n",
       "      <td>19th\\KDH\\Home_Playing Alone1.MP4</td>\n",
       "      <td>7.558940</td>\n",
       "    </tr>\n",
       "  </tbody>\n",
       "</table>\n",
       "</div>"
      ],
      "text/plain": [
       "                                      name  duration\n",
       "36        19th\\KDH\\Home_Playing Alone2.MP4  3.097261\n",
       "56    15th\\HTK\\Following Instructions1.MP4  4.968853\n",
       "57                  14th\\NSW\\Playtime2.MP4  4.997771\n",
       "58    14th\\JJH\\Following Instructions2.MP4  5.002219\n",
       "59    14th\\NSW\\Following Instructions1.MP4  5.002776\n",
       "61    14th\\JJH\\Following Instructions1.MP4  5.007781\n",
       "62                  14th\\JJH\\Playtime1.MP4  5.007781\n",
       "63                  14th\\NSW\\Playtime1.MP4  5.008893\n",
       "64    14th\\LKY\\Following Instructions2.MP4  5.022796\n",
       "65                  15th\\HTK\\Playtime1.MP4  5.027244\n",
       "66                  14th\\JJH\\Playtime2.MP4  5.032806\n",
       "67    15th\\HTK\\Following Instructions2.MP4  5.032806\n",
       "68    14th\\LKY\\Following Instructions1.MP4  5.037811\n",
       "69                  14th\\LKY\\Playtime1.MP4  5.042816\n",
       "70                  15th\\HTK\\Playtime2.MP4  5.047821\n",
       "75   20th\\BAM\\Hospital_Playing Alone 1.MP4  5.136798\n",
       "76   20th\\BAM\\Hospital_Playing Alone 2.MP4  5.146808\n",
       "78    14th\\NSW\\Following Instructions2.MP4  5.160155\n",
       "81                  14th\\LKY\\Playtime2.MP4  5.179063\n",
       "102       19th\\KDH\\Home_Playing Alone1.MP4  7.558940"
      ]
     },
     "execution_count": 69,
     "metadata": {},
     "output_type": "execute_result"
    }
   ],
   "source": [
    "df_videos.loc[df_videos.name.isin(name_12)]"
   ]
  },
  {
   "cell_type": "code",
   "execution_count": null,
   "metadata": {
    "pycharm": {
     "name": "#%%\n"
    }
   },
   "outputs": [
    {
     "data": {
      "text/plain": [
       "['20th\\\\BAM\\\\Hospital_Playtime_New Toys.MP4',\n",
       " '21th\\\\KSJ\\\\Hospital_Playtime_New Toys.MP4',\n",
       " '23th\\\\JBH\\\\Hospital_Playtime_New Toys.MP4',\n",
       " '21th\\\\KHW\\\\Hospital_Playtime_New toys.MP4',\n",
       " '22th\\\\CHT\\\\Home_Playtime_New Toys.MP4',\n",
       " '20th\\\\SYJ\\\\Home_Playtime_New Toys.MP4',\n",
       " '24th\\\\UJW\\\\Home_Playtime_New Toys.MP4',\n",
       " '23th\\\\CEJ\\\\Home_Playtime_New Toys.MP4',\n",
       " '23th\\\\HSY\\\\Home_Playtime_New Toys.MP4',\n",
       " '24th\\\\JSM\\\\Home_Playtime_New Toys.MP4',\n",
       " '22th\\\\LSY\\\\Home_Playtime_New Toys.MP4',\n",
       " '21th\\\\LJH\\\\Home_Playtime_New Toys.MP4',\n",
       " '21th\\\\HKJ\\\\Home_Playtime_New Toys.MP4',\n",
       " '20th\\\\BAM\\\\Hospital_Playtime_Physical Activity.MP4',\n",
       " '21th\\\\KHW\\\\Hospital_Playtime_Physical Activity.MP4',\n",
       " '21th\\\\KSJ\\\\Hospital_Playtime_Physical Activity .MP4',\n",
       " '23th\\\\JBH\\\\Hospital_Playtime_Physical Activity.MP4',\n",
       " '24th\\\\UJW\\\\Home_Playtime_Physical Activity.mpg',\n",
       " '22th\\\\CHT\\\\Home_Playtime_Physical Activity.MP4',\n",
       " '20th\\\\SYJ\\\\Home_Playtime_Physical Activity.MP4',\n",
       " '23th\\\\CEJ\\\\Home_Playtime_Physical Activity.MP4',\n",
       " '23th\\\\HSY\\\\Home_Playtime_Physical Activity.MP4',\n",
       " '21th\\\\HKJ\\\\Home_Playtime_Physical Activity.MP4',\n",
       " '22th\\\\LSY\\\\Home_Playtime_Physical Activity.MP4',\n",
       " '21th\\\\LJH\\\\Home_Playtime_Physical Activity.MP4',\n",
       " '24th\\\\JSM\\\\Home_Playtime_Physical Activity.MP4',\n",
       " '20th\\\\BAM\\\\Hospital_Playtime_Casual Interaction.MP4',\n",
       " '21th\\\\KSJ\\\\Hospital_Playtime_Casual Interaction.MP4',\n",
       " '23th\\\\JBH\\\\Hospital_Playtime_Casual Interaction.MP4',\n",
       " '21th\\\\KHW\\\\Hospital_Playtime_Casual Interaction.MP4',\n",
       " '22th\\\\CHT\\\\Home_Playtime_Casual Interaction.MP4',\n",
       " '23th\\\\HSY\\\\Home_Playtime_Casual Interaction.MP4',\n",
       " '22th\\\\LSY\\\\Home_Playtime_Casual Interaction.MP4',\n",
       " '21th\\\\LJH\\\\Home_Playtime_Casual Interaction.MP4',\n",
       " '23th\\\\CEJ\\\\Home_Playtime_Casual Interaction.MP4',\n",
       " '24th\\\\JSM\\\\Home_Playtime_Casual Interaction.MP4',\n",
       " '21th\\\\HKJ\\\\Home_Playtime_Casual Interaction.MP4',\n",
       " '20th\\\\SYJ\\\\Home_Playtime_Casual Interaction.MP4',\n",
       " '24th\\\\UJW\\\\Home_Playtime_Casual Interaction.MP4']"
      ]
     },
     "execution_count": 59,
     "metadata": {},
     "output_type": "execute_result"
    }
   ],
   "source": [
    "[name for name in df_short_videos.name.tolist() if re.search(r'toy|activity|interaction', name, re.IGNORECASE)]"
   ]
  },
  {
   "cell_type": "code",
   "execution_count": null,
   "metadata": {
    "collapsed": false,
    "pycharm": {
     "name": "#%%\n"
    }
   },
   "outputs": [],
   "source": [
    "# Process each good video\n",
    "for num_video, name in enumerate(df_good_videos.name.tolist()):\n",
    "    path_video = os.path.join(dir_raw, name)\n",
    "    path_label = glob.glob(os.path.join(os.path.dirname(path_video), '*.xlsx'))[0]\n",
    "    names_sheet = pd.ExcelFile(path_label).sheet_names\n",
    "    if 'Alone' in os.path.basename(path_video):\n",
    "        df_label = pd.read_excel(path_label, sheet_name=\"alone\" if \"alone\" in names_sheet else \"Alone\")\n",
    "    elif 'Instruction' in os.path.basename(path_video):\n",
    "        df_label = pd.read_excel(path_label, sheet_name=\"instruction\" if \"instruction\" in names_sheet else \"Instruction\")\n",
    "    elif 'Playtime' in os.path.basename(path_video):\n",
    "        df_label = pd.read_excel(path_label, sheet_name=\"playtime\" if \"playtime\" in names_sheet else \"Playtime\")\n",
    "    else:\n",
    "        print(\"Bad data here, need to fixed: print {}\".format(path_video))\n",
    "        break\n",
    "\n",
    "    # Find the row that contains all the table head.\n",
    "    index_head = 0\n",
    "    index_tail = 0\n",
    "    for index, col in df_label.iteritems():\n",
    "        index_head_tail = col[col == 'Time'].index\n",
    "        if len(index_head_tail) > 0:\n",
    "            index_head = index_head_tail[0]\n",
    "            index_tail = index_head_tail[1]\n",
    "            break\n",
    "\n",
    "    # Check head and tail error:\n",
    "    if index_head + index_tail < 20:\n",
    "        print('Something wrong for the head and tail index.')\n",
    "        break\n",
    "\n",
    "    # Change the head of the dataframe\n",
    "    df_label.columns = df_label.iloc[index_head].values\n",
    "\n",
    "    # Crop the df_label to keep valuable information\n",
    "    ind_col_head, ind_col_tail = np.where(df_label.columns == 'Time')[0]\n",
    "    df_label = df_label.iloc[index_head+1:index_tail]\n",
    "    df_label = df_label.iloc[:, ind_col_head:ind_col_tail]\n",
    "\n",
    "    # Change the duplicate header names (eg: Int to Int_parent and Int_child)\n",
    "    index_Int = np.where(df_label.columns == 'Int')[0]\n",
    "    df_label.columns.values[index_Int[0]] = 'Int_parent'\n",
    "    df_label.columns.values[index_Int[1]] = 'Int_child'\n",
    "    index_Int = np.where(df_label.columns == 'Aff')[0]\n",
    "    df_label.columns.values[index_Int[0]] = 'Aff_parent'\n",
    "    df_label.columns.values[index_Int[1]] = 'Aff_child'\n",
    "\n",
    "    # Preprocess the video:\n",
    "    cap = cv2.VideoCapture(path_video)\n",
    "    if cap.isOpened():\n",
    "        fps = cap.get(5)\n",
    "        FrameNumber = cap.get(7)\n",
    "        frame_width = int(cap.get(3))\n",
    "        frame_height = int(cap.get(4))\n",
    "\n",
    "        size = (frame_width, frame_height)\n",
    "        num_frame = 0\n",
    "        # info_label = df_label.iterrows()\n",
    "    else:\n",
    "        break\n",
    "\n",
    "    for index, row in df_label.iterrows():\n",
    "        # initial set up for interval\n",
    "        start_time = row['Time']\n",
    "        frame_start = start_time.minute * fps + start_time.hour * 60 * fps\n",
    "        frame_end = 10 * fps + frame_start\n",
    "        temp_list_frames = []\n",
    "        # Crop the corresponding video\n",
    "        while num_frame <= frame_end:\n",
    "            success,frame = cap.read()\n",
    "            num_frame += 1\n",
    "            if not success:\n",
    "                break\n",
    "            temp_list_frames.append(frame)\n",
    "        # Check the labels of this video and save it in the corresponding folder\n",
    "        labels = [i for i in row.index if row[i]==1]\n",
    "        for label in labels:\n",
    "            fourcc = cv2.VideoWriter_fourcc(*'MP4V')\n",
    "            dir_save_video = os.path.dirname(path_video.replace('Data', 'Data_processed/{}'.format(label)))\n",
    "            if not os.path.exists(dir_save_video):\n",
    "                os.makedirs(dir_save_video)\n",
    "            name_save_video = '{}_{}.mp4'.format(num_video, len(os.listdir(dir_save_video)))\n",
    "            path_save_video = os.path.join(dir_save_video, name_save_video)\n",
    "            videoWriter = cv2.VideoWriter(path_save_video,fourcc,fps,size)\n",
    "            for frame in temp_list_frames:\n",
    "                videoWriter.write(frame)\n",
    "            videoWriter.release()\n",
    "    \n"
   ]
  },
  {
   "cell_type": "code",
   "execution_count": null,
   "metadata": {
    "collapsed": false,
    "pycharm": {
     "name": "#%%\n"
    }
   },
   "outputs": [
    {
     "data": {
      "text/plain": [
       "array(['Following Instructions1.MP4', 'Following Instructions2.MP4',\n",
       "       'Home_Following Instructions_Clean Up.MP4',\n",
       "       'Home_Following Instructions_Clean Up.mp4',\n",
       "       'Home_Following Instructions_Freely.MP4',\n",
       "       'Home_Following Instructions_Freely.mpg',\n",
       "       'Home_Following Instructions_List.MP4', 'Home_Playing Alone.mp4',\n",
       "       'Home_Playing Alone1.MP4', 'Home_Playing Alone2.MP4',\n",
       "       'Home_Playtime.mp4', 'Home_Playtime_Casual Interaction.MP4',\n",
       "       'Home_Playtime_New Toys.MP4',\n",
       "       'Home_Playtime_Physical Activity.MP4',\n",
       "       'Home_Playtime_Physical Activity.mpg',\n",
       "       'Hospital_Following Instructions_Clean Up.MP4',\n",
       "       'Hospital_Following Instructions_Freely.MP4',\n",
       "       'Hospital_Following Instructions_List.MP4',\n",
       "       'Hospital_Playing Alone 1.MP4', 'Hospital_Playing Alone 2.MP4',\n",
       "       'Hospital_Playtime_Casual Interaction.MP4',\n",
       "       'Hospital_Playtime_New Toys.MP4', 'Hospital_Playtime_New toys.MP4',\n",
       "       'Hospital_Playtime_Physical Activity .MP4',\n",
       "       'Hospital_Playtime_Physical Activity.MP4', 'Playtime1.MP4',\n",
       "       'Playtime2.MP4'], dtype='<U44')"
      ]
     },
     "execution_count": 16,
     "metadata": {},
     "output_type": "execute_result"
    }
   ],
   "source": [
    "np.unique([os.path.basename(i) for i in df_short_videos.name])"
   ]
  },
  {
   "cell_type": "code",
   "execution_count": null,
   "metadata": {
    "collapsed": false,
    "pycharm": {
     "name": "#%%\n"
    }
   },
   "outputs": [
    {
     "data": {
      "text/html": [
       "<div>\n",
       "<style scoped>\n",
       "    .dataframe tbody tr th:only-of-type {\n",
       "        vertical-align: middle;\n",
       "    }\n",
       "\n",
       "    .dataframe tbody tr th {\n",
       "        vertical-align: top;\n",
       "    }\n",
       "\n",
       "    .dataframe thead th {\n",
       "        text-align: right;\n",
       "    }\n",
       "</style>\n",
       "<table border=\"1\" class=\"dataframe\">\n",
       "  <thead>\n",
       "    <tr style=\"text-align: right;\">\n",
       "      <th></th>\n",
       "      <th>name</th>\n",
       "      <th>duration</th>\n",
       "    </tr>\n",
       "  </thead>\n",
       "  <tbody>\n",
       "    <tr>\n",
       "      <th>92</th>\n",
       "      <td>20th\\BAM\\Hospital_Playtime_New Toys.MP4</td>\n",
       "      <td>2.013122</td>\n",
       "    </tr>\n",
       "    <tr>\n",
       "      <th>86</th>\n",
       "      <td>20th\\BAM\\Hospital_Following Instructions_Clean...</td>\n",
       "      <td>2.044264</td>\n",
       "    </tr>\n",
       "    <tr>\n",
       "      <th>120</th>\n",
       "      <td>21th\\KSJ\\Hospital_Playtime_New Toys.MP4</td>\n",
       "      <td>2.046489</td>\n",
       "    </tr>\n",
       "    <tr>\n",
       "      <th>157</th>\n",
       "      <td>23th\\JBH\\Hospital_Following Instructions_Clean...</td>\n",
       "      <td>2.064284</td>\n",
       "    </tr>\n",
       "    <tr>\n",
       "      <th>115</th>\n",
       "      <td>21th\\KSJ\\Hospital_Following Instructions_Clean...</td>\n",
       "      <td>2.074851</td>\n",
       "    </tr>\n",
       "    <tr>\n",
       "      <th>...</th>\n",
       "      <td>...</td>\n",
       "      <td>...</td>\n",
       "    </tr>\n",
       "    <tr>\n",
       "      <th>180</th>\n",
       "      <td>5th\\LCD\\Home_Playtime.mp4</td>\n",
       "      <td>5.373702</td>\n",
       "    </tr>\n",
       "    <tr>\n",
       "      <th>123</th>\n",
       "      <td>21th\\LJH\\Home_Following Instructions_Freely.MP4</td>\n",
       "      <td>5.761867</td>\n",
       "    </tr>\n",
       "    <tr>\n",
       "      <th>87</th>\n",
       "      <td>20th\\BAM\\Hospital_Following Instructions_Freel...</td>\n",
       "      <td>6.006556</td>\n",
       "    </tr>\n",
       "    <tr>\n",
       "      <th>80</th>\n",
       "      <td>19th\\KDH\\Home_Playing Alone1.MP4</td>\n",
       "      <td>7.558940</td>\n",
       "    </tr>\n",
       "    <tr>\n",
       "      <th>175</th>\n",
       "      <td>24th\\UJW\\Home_Playtime_Casual Interaction.MP4</td>\n",
       "      <td>7.680451</td>\n",
       "    </tr>\n",
       "  </tbody>\n",
       "</table>\n",
       "<p>100 rows × 2 columns</p>\n",
       "</div>"
      ],
      "text/plain": [
       "                                                  name  duration\n",
       "92             20th\\BAM\\Hospital_Playtime_New Toys.MP4  2.013122\n",
       "86   20th\\BAM\\Hospital_Following Instructions_Clean...  2.044264\n",
       "120            21th\\KSJ\\Hospital_Playtime_New Toys.MP4  2.046489\n",
       "157  23th\\JBH\\Hospital_Following Instructions_Clean...  2.064284\n",
       "115  21th\\KSJ\\Hospital_Following Instructions_Clean...  2.074851\n",
       "..                                                 ...       ...\n",
       "180                          5th\\LCD\\Home_Playtime.mp4  5.373702\n",
       "123    21th\\LJH\\Home_Following Instructions_Freely.MP4  5.761867\n",
       "87   20th\\BAM\\Hospital_Following Instructions_Freel...  6.006556\n",
       "80                    19th\\KDH\\Home_Playing Alone1.MP4  7.558940\n",
       "175      24th\\UJW\\Home_Playtime_Casual Interaction.MP4  7.680451\n",
       "\n",
       "[100 rows x 2 columns]"
      ]
     },
     "execution_count": 12,
     "metadata": {},
     "output_type": "execute_result"
    }
   ],
   "source": [
    "df_short_videos.name"
   ]
  },
  {
   "cell_type": "code",
   "execution_count": null,
   "metadata": {
    "collapsed": false,
    "pycharm": {
     "name": "#%%\n"
    }
   },
   "outputs": [
    {
     "data": {
      "text/plain": [
       "['5th\\\\LCD\\\\Home_Playing Alone.mp4',\n",
       " '19th\\\\KDH\\\\Home_Playing Alone2.MP4',\n",
       " '20th\\\\BAM\\\\Hospital_Playing Alone 1.MP4',\n",
       " '20th\\\\BAM\\\\Hospital_Playing Alone 2.MP4',\n",
       " '19th\\\\KDH\\\\Home_Playing Alone1.MP4']"
      ]
     },
     "execution_count": 14,
     "metadata": {},
     "output_type": "execute_result"
    }
   ],
   "source": [
    "[i for i in df_short_videos.name if 'Alone' in i]"
   ]
  },
  {
   "cell_type": "code",
   "execution_count": null,
   "metadata": {
    "collapsed": false,
    "pycharm": {
     "name": "#%%\n"
    }
   },
   "outputs": [
    {
     "data": {
      "text/plain": [
       "1567.6955324296296"
      ]
     },
     "execution_count": 20,
     "metadata": {},
     "output_type": "execute_result"
    }
   ],
   "source": [
    "np.sum(df_videos.duration)"
   ]
  }
 ],
 "metadata": {
  "kernelspec": {
   "display_name": "art_med",
   "language": "python",
   "name": "python3"
  },
  "language_info": {
   "codemirror_mode": {
    "name": "ipython",
    "version": 3
   },
   "file_extension": ".py",
   "mimetype": "text/x-python",
   "name": "python",
   "nbconvert_exporter": "python",
   "pygments_lexer": "ipython3",
   "version": "3.9.13"
  },
  "vscode": {
   "interpreter": {
    "hash": "a3b71286187f7d0bf192c63da714a1cee0027619278f52a0c3725940ac5f59e2"
   }
  }
 },
 "nbformat": 4,
 "nbformat_minor": 0
}