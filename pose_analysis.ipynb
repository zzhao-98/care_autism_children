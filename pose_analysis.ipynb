{
 "cells": [
  {
   "cell_type": "code",
   "execution_count": 1,
   "outputs": [],
   "source": [
    "import os, cv2\n",
    "import pandas as pd\n",
    "import numpy as np\n",
    "import mediapipe as mp"
   ],
   "metadata": {
    "collapsed": false,
    "pycharm": {
     "name": "#%%\n"
    }
   }
  },
  {
   "cell_type": "code",
   "execution_count": null,
   "outputs": [],
   "source": [
    "df_short_video = pd. read_csv('short_video.csv')"
   ],
   "metadata": {
    "collapsed": false,
    "pycharm": {
     "name": "#%%\n"
    }
   }
  },
  {
   "cell_type": "code",
   "execution_count": null,
   "outputs": [],
   "source": [
    "df_short_video.name\n",
    "# Define the dataset folder\n",
    "dir_dataset = \"C:/Users/36394/Study/GWU/PHD in Biomedical Engineer/Research/emotional_prediction/Autism_dataset\"\n",
    "dir_raw = os.path.join(dir_dataset, 'Data')"
   ],
   "metadata": {
    "collapsed": false,
    "pycharm": {
     "name": "#%%\n"
    }
   }
  },
  {
   "cell_type": "code",
   "execution_count": null,
   "outputs": [],
   "source": [
    "path_video_test = os.path.join(dir_raw, df_short_video.name[0])"
   ],
   "metadata": {
    "collapsed": false,
    "pycharm": {
     "name": "#%%\n"
    }
   }
  },
  {
   "cell_type": "code",
   "execution_count": null,
   "outputs": [],
   "source": [
    "import cv2\n",
    "import mediapipe as mp\n",
    "mp_drawing = mp.solutions.drawing_utils\n",
    "mp_drawing_styles = mp.solutions.drawing_styles\n",
    "mp_pose = mp.solutions.pose\n",
    "\n",
    "# # For static images:\n",
    "# IMAGE_FILES = []\n",
    "# BG_COLOR = (192, 192, 192) # gray\n",
    "# with mp_pose.Pose(\n",
    "#     static_image_mode=True,\n",
    "#     model_complexity=2,\n",
    "#     enable_segmentation=True,\n",
    "#     min_detection_confidence=0.5) as pose:\n",
    "#   for idx, file in enumerate(IMAGE_FILES):\n",
    "#     image = cv2.imread(file)\n",
    "#     image_height, image_width, _ = image.shape\n",
    "#     # Convert the BGR image to RGB before processing.\n",
    "#     results = pose.process(cv2.cvtColor(image, cv2.COLOR_BGR2RGB))\n",
    "#\n",
    "#     if not results.pose_landmarks:\n",
    "#       continue\n",
    "#     print(\n",
    "#         f'Nose coordinates: ('\n",
    "#         f'{results.pose_landmarks.landmark[mp_pose.PoseLandmark.NOSE].x * image_width}, '\n",
    "#         f'{results.pose_landmarks.landmark[mp_pose.PoseLandmark.NOSE].y * image_height})'\n",
    "#     )\n",
    "#\n",
    "#     annotated_image = image.copy()\n",
    "#     # Draw segmentation on the image.\n",
    "#     # To improve segmentation around boundaries, consider applying a joint\n",
    "#     # bilateral filter to \"results.segmentation_mask\" with \"image\".\n",
    "#     condition = np.stack((results.segmentation_mask,) * 3, axis=-1) > 0.1\n",
    "#     bg_image = np.zeros(image.shape, dtype=np.uint8)\n",
    "#     bg_image[:] = BG_COLOR\n",
    "#     annotated_image = np.where(condition, annotated_image, bg_image)\n",
    "#     # Draw pose landmarks on the image.\n",
    "#     mp_drawing.draw_landmarks(\n",
    "#         annotated_image,\n",
    "#         results.pose_landmarks,\n",
    "#         mp_pose.POSE_CONNECTIONS,\n",
    "#         landmark_drawing_spec=mp_drawing_styles.get_default_pose_landmarks_style())\n",
    "#     cv2.imwrite('/tmp/annotated_image' + str(idx) + '.png', annotated_image)\n",
    "#     # Plot pose world landmarks.\n",
    "#     mp_drawing.plot_landmarks(\n",
    "#         results.pose_world_landmarks, mp_pose.POSE_CONNECTIONS)\n",
    "\n",
    "# For webcam input:\n",
    "cap = cv2.VideoCapture(path_video_test)\n",
    "with mp_pose.Pose(\n",
    "    min_detection_confidence=0.5,\n",
    "    min_tracking_confidence=0.5,\n",
    "    model_complexity=2) as pose:\n",
    "  while cap.isOpened():\n",
    "    success, image = cap.read()\n",
    "    if not success:\n",
    "      print(\"Ignoring empty camera frame.\")\n",
    "      # If loading a video, use 'break' instead of 'continue'.\n",
    "      continue\n",
    "\n",
    "    # To improve performance, optionally mark the image as not writeable to\n",
    "    # pass by reference.\n",
    "    image.flags.writeable = False\n",
    "    image = cv2.cvtColor(image, cv2.COLOR_BGR2RGB)\n",
    "    results = pose.process(image)\n",
    "\n",
    "    # Draw the pose annotation on the image.\n",
    "    image.flags.writeable = True\n",
    "    image = cv2.cvtColor(image, cv2.COLOR_RGB2BGR)\n",
    "    mp_drawing.draw_landmarks(\n",
    "        image,\n",
    "        results.pose_landmarks,\n",
    "        mp_pose.POSE_CONNECTIONS,\n",
    "        landmark_drawing_spec=mp_drawing_styles.get_default_pose_landmarks_style())\n",
    "    # Flip the image horizontally for a selfie-view display.\n",
    "    cv2.imshow('MediaPipe Pose', cv2.flip(image, 1))\n",
    "    if cv2.waitKey(5) & 0xFF == 27:\n",
    "      break\n",
    "cap.release()"
   ],
   "metadata": {
    "collapsed": false,
    "pycharm": {
     "name": "#%%\n"
    }
   }
  },
  {
   "cell_type": "code",
   "execution_count": null,
   "outputs": [],
   "source": [
    "mp.solutions.face_mesh"
   ],
   "metadata": {
    "collapsed": false,
    "pycharm": {
     "name": "#%%\n"
    }
   }
  },
  {
   "cell_type": "code",
   "execution_count": 1,
   "outputs": [],
   "source": [
    "import json, os"
   ],
   "metadata": {
    "collapsed": false,
    "pycharm": {
     "name": "#%%\n"
    }
   }
  },
  {
   "cell_type": "code",
   "execution_count": 8,
   "outputs": [
    {
     "name": "stdout",
     "output_type": "stream",
     "text": [
      "1 41_0_000000000150_keypoints.json\n",
      "1 41_0_000000000151_keypoints.json\n",
      "1 41_0_000000000279_keypoints.json\n",
      "1 41_0_000000000293_keypoints.json\n",
      "1 41_0_000000000385_keypoints.json\n",
      "1 41_0_000000000386_keypoints.json\n",
      "3 41_0_000000000505_keypoints.json\n",
      "3 41_0_000000000507_keypoints.json\n",
      "3 41_0_000000000511_keypoints.json\n"
     ]
    }
   ],
   "source": [
    "g = os.walk(r'test_json_1')\n",
    "target_folder = 'processed_json'\n",
    "for path,dir_list,file_list in g:\n",
    "    for file_name in file_list:\n",
    "        with open(os.path.join(path, file_name)) as f:\n",
    "            test_json = json.load(f)\n",
    "            with open(os.path.join(target_folder, file_name), 'w') as f_out:\n",
    "                f_out.write(json.dumps(test_json, indent=4))\n",
    "            if len([i['person_id'] for i in test_json['people']]) != 2:\n",
    "                print(len([i['person_id'] for i in test_json['people']]), file_name)\n"
   ],
   "metadata": {
    "collapsed": false,
    "pycharm": {
     "name": "#%%\n"
    }
   }
  },
  {
   "cell_type": "code",
   "execution_count": 4,
   "outputs": [
    {
     "data": {
      "text/plain": "dict"
     },
     "execution_count": 4,
     "metadata": {},
     "output_type": "execute_result"
    }
   ],
   "source": [
    "type(test_json)"
   ],
   "metadata": {
    "collapsed": false,
    "pycharm": {
     "name": "#%%\n"
    }
   }
  },
  {
   "cell_type": "code",
   "execution_count": 21,
   "outputs": [
    {
     "data": {
      "text/plain": "dict_keys(['person_id', 'pose_keypoints_2d', 'face_keypoints_2d', 'hand_left_keypoints_2d', 'hand_right_keypoints_2d', 'pose_keypoints_3d', 'face_keypoints_3d', 'hand_left_keypoints_3d', 'hand_right_keypoints_3d'])"
     },
     "execution_count": 21,
     "metadata": {},
     "output_type": "execute_result"
    }
   ],
   "source": [
    "test_json['people'][0].keys()"
   ],
   "metadata": {
    "collapsed": false,
    "pycharm": {
     "name": "#%%\n"
    }
   }
  }
 ],
 "metadata": {
  "kernelspec": {
   "display_name": "Python 3",
   "language": "python",
   "name": "python3"
  },
  "language_info": {
   "codemirror_mode": {
    "name": "ipython",
    "version": 2
   },
   "file_extension": ".py",
   "mimetype": "text/x-python",
   "name": "python",
   "nbconvert_exporter": "python",
   "pygments_lexer": "ipython2",
   "version": "2.7.6"
  }
 },
 "nbformat": 4,
 "nbformat_minor": 0
}